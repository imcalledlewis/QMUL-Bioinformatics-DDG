{
 "cells": [
  {
   "cell_type": "code",
   "execution_count": null,
   "id": "6ffd0569-2d49-454f-acb9-e0be9ae7663f",
   "metadata": {},
   "outputs": [],
   "source": [
    "pip install flask"
   ]
  },
  {
   "cell_type": "code",
   "execution_count": null,
   "id": "ab2aa633-927d-4462-8586-1a8661b54e66",
   "metadata": {},
   "outputs": [],
   "source": [
    " pip install --upgrade pip"
   ]
  },
  {
   "cell_type": "code",
   "execution_count": null,
   "id": "eee6d863-84bd-4aea-8bdf-656456740645",
   "metadata": {},
   "outputs": [],
   "source": [
    "# Import the Flask and render_template classes from the flask module, and pandas module for data handling\n",
    "from flask import Flask, render_template, request\n",
    "import pandas as pd\n",
    "\n",
    "\n",
    "#Create flask object \n",
    "app = Flask(__name__)\n",
    "\n",
    "# Define a route for the home page\n",
    "@app.route('/')\n",
    "def index():\n",
    "    # Return the 'search.html' template when the user navigates to the root URL\n",
    "    return render_template('search.html')\n",
    "\n",
    "# Define a route for handling the search form submission\n",
    "@app.route('/search', methods=['GET', 'POST'])\n",
    "def search():\n",
    "    # Check if the request method is POST, which means the search form has been submitted\n",
    "    if request.method == 'POST':\n",
    "        # Retrieve the user input from the search form using the name attribute of the input element\n",
    "        search_id = request.form['search_id']\n",
    "        # Read the CSV file containing the data\n",
    "        data = pd.read_csv('GO_trimmed.csv')\n",
    "        # Filter the data to only include the row with the matching rsid\n",
    "        filtered_data = data.loc[data['Uploaded_variation'] == search_id]\n",
    "        # If the filtered data is empty, return an error message\n",
    "        if filtered_data.empty:\n",
    "            return f\"No data found for rsid: {search_id}\"\n",
    "        # Otherwise, pass the filtered data to the 'table.html' template for display\n",
    "        return render_template('table.html', data=filtered_data)\n",
    "    # If the request method is not POST, return the 'search.html' template to display the search form\n",
    "    return render_template('search.html')\n",
    "\n",
    "# Start the web application when this file is run\n",
    "if __name__ == '__main__':\n",
    "    app.run(debug=True)\n"
   ]
  },
  {
   "cell_type": "code",
   "execution_count": null,
   "id": "731ed494-c675-436e-8046-3ac8741b3c1e",
   "metadata": {},
   "outputs": [],
   "source": []
  }
 ],
 "metadata": {
  "kernelspec": {
   "display_name": "Python 3 (ipykernel)",
   "language": "python",
   "name": "python3"
  },
  "language_info": {
   "codemirror_mode": {
    "name": "ipython",
    "version": 3
   },
   "file_extension": ".py",
   "mimetype": "text/x-python",
   "name": "python",
   "nbconvert_exporter": "python",
   "pygments_lexer": "ipython3",
   "version": "3.10.6"
  }
 },
 "nbformat": 4,
 "nbformat_minor": 5
}
