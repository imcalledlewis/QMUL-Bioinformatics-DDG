{
 "cells": [
  {
   "cell_type": "code",
   "execution_count": 2,
   "id": "be5b2f6f-143e-414a-9e53-f9080d0bd51f",
   "metadata": {},
   "outputs": [
    {
     "name": "stdout",
     "output_type": "stream",
     "text": [
      "    Uploaded_variation Allele    IMPACT CADD_PHRED   CADD_RAW PolyPhen SIFT\n",
      "0           rs28600853      A  MODIFIER      0.426   -0.23667        -    -\n",
      "1           rs17407280      T  MODIFIER      2.856   0.176149        -    -\n",
      "2           rs10751776      C  MODIFIER      3.989   0.274309        -    -\n",
      "3           rs28594470      G  MODIFIER      1.676   0.049512        -    -\n",
      "4             rs574384      A  MODIFIER      0.715  -0.131026        -    -\n",
      "..                 ...    ...       ...        ...        ...      ...  ...\n",
      "548           rs241427      G  MODIFIER          -          -        -    -\n",
      "549          rs4148870      C  MODIFIER          -          -        -    -\n",
      "550          rs3128930      T  MODIFIER          -          -        -    -\n",
      "551         rs57373867      G  MODIFIER      3.723   0.251641        -    -\n",
      "552          rs2664170      A  MODIFIER      0.665  -0.146198        -    -\n",
      "\n",
      "[553 rows x 7 columns]\n"
     ]
    }
   ],
   "source": [
    "import pandas as pd\n",
    "Association_table_filename = 'Functional_and_Ontology_data.tsv'\n",
    "df = pd.read_csv(Association_table_filename, sep='\\t')\n",
    "columns_to_keep = ['Uploaded_variation','Allele','CADD_PHRED', 'CADD_RAW', 'PolyPhen', 'SIFT']\n",
    "df = df[columns_to_keep]\n",
    "print(df)\n",
    "\n",
    "df.to_csv(\"Func_trimmed.csv\", index=False)\n"
   ]
  },
  {
   "cell_type": "code",
   "execution_count": 1,
   "id": "0344735d-08ee-4e3d-aab7-cdb65a243d2e",
   "metadata": {},
   "outputs": [
    {
     "name": "stdout",
     "output_type": "stream",
     "text": [
      "    Uploaded_variation                                    Location SYMBOL  \\\n",
      "0           rs28600853                           1:2863195-2863195      -   \n",
      "1           rs17407280                         1:20693912-20693912  KIF17   \n",
      "2           rs10751776                         1:24970252-24970252      -   \n",
      "3           rs28594470                         1:25409808-25409808   RHCE   \n",
      "4             rs574384                         1:35622060-35622060  PSMB2   \n",
      "..                 ...                                         ...    ...   \n",
      "548           rs241427  CHR_HSCHR6_MHC_SSTO_CTG1:32927356-32927356   TAP2   \n",
      "549          rs4148870  CHR_HSCHR6_MHC_SSTO_CTG1:32929329-32929329   TAP2   \n",
      "550          rs3128930  CHR_HSCHR6_MHC_SSTO_CTG1:33248311-33248311      -   \n",
      "551         rs57373867                         X:33801300-33801300      -   \n",
      "552          rs2664170                       X:154717327-154717327   GAB3   \n",
      "\n",
      "                Gene                                                 GO  \n",
      "0                  -                                                  -  \n",
      "1    ENSG00000117245  GO:0000166:nucleotide_binding,GO:0001750:photo...  \n",
      "2    ENSG00000261025                                                  -  \n",
      "3    ENSG00000188672  GO:0005886:plasma_membrane,GO:0005887:integral...  \n",
      "4    ENSG00000126067  GO:0000502:proteasome_complex,GO:0005515:prote...  \n",
      "..               ...                                                ...  \n",
      "548  ENSG00000232326  GO:0000166:nucleotide_binding,GO:0002250:adapt...  \n",
      "549  ENSG00000232326  GO:0000166:nucleotide_binding,GO:0002250:adapt...  \n",
      "550  ENSG00000290372                                                  -  \n",
      "551  ENSG00000233928                                                  -  \n",
      "552  ENSG00000160219  GO:0005737:cytoplasm,GO:0007165:signal_transdu...  \n",
      "\n",
      "[553 rows x 5 columns]\n"
     ]
    }
   ],
   "source": [
    "import pandas as pd\n",
    "Association_table_filename = 'Functional_and_Ontology_data.tsv'\n",
    "df = pd.read_csv(Association_table_filename, sep='\\t')\n",
    "columns_to_keep = ['Uploaded_variation','Location','SYMBOL', 'Gene', 'GO']\n",
    "df = df[columns_to_keep]\n",
    "print(df)\n",
    "\n",
    "df.to_csv(\"GO_trimmed.csv\", index=False)"
   ]
  },
  {
   "cell_type": "code",
   "execution_count": null,
   "id": "dbdd6156-ae6a-4984-8def-affaa187a317",
   "metadata": {},
   "outputs": [],
   "source": []
  },
  {
   "cell_type": "code",
   "execution_count": null,
   "id": "c18ca4af-479f-430f-9f0a-022d126d1993",
   "metadata": {},
   "outputs": [],
   "source": []
  }
 ],
 "metadata": {
  "kernelspec": {
   "display_name": "Python 3 (ipykernel)",
   "language": "python",
   "name": "python3"
  },
  "language_info": {
   "codemirror_mode": {
    "name": "ipython",
    "version": 3
   },
   "file_extension": ".py",
   "mimetype": "text/x-python",
   "name": "python",
   "nbconvert_exporter": "python",
   "pygments_lexer": "ipython3",
   "version": "3.9.13"
  }
 },
 "nbformat": 4,
 "nbformat_minor": 5
}
