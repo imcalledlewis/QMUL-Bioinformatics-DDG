{
 "cells": [
  {
   "attachments": {},
   "cell_type": "markdown",
   "metadata": {},
   "source": [
    "# Data Cleaner\n",
    "\n",
    "Different scripts to clean and trim our data"
   ]
  },
  {
   "cell_type": "code",
   "execution_count": 1,
   "metadata": {},
   "outputs": [],
   "source": [
    "from db_scripts import *"
   ]
  },
  {
   "attachments": {},
   "cell_type": "markdown",
   "metadata": {},
   "source": [
    "Functional data:"
   ]
  },
  {
   "cell_type": "code",
   "execution_count": 2,
   "metadata": {},
   "outputs": [],
   "source": [
    "fileIn=getPath('Func_trimmed.csv')\n",
    "\n",
    "func=pd.read_csv(fileIn)\n",
    "# Get list of duplicate values\n",
    "dupeList = func.duplicated(subset=['Uploaded_variation','Allele'])\n",
    "# Select only non-duplicates\n",
    "func=func[~dupeList]\n",
    "func=removeSpecial(func)\n",
    "func.rename(columns = {'uploaded_variation':'rsid'}, inplace = True)\n",
    "func = func[['rsid','allele','cadd_phred', 'cadd_raw']]"
   ]
  },
  {
   "attachments": {},
   "cell_type": "markdown",
   "metadata": {},
   "source": [
    "Population data:"
   ]
  },
  {
   "cell_type": "code",
   "execution_count": 3,
   "metadata": {},
   "outputs": [],
   "source": [
    "fileIn=getPath('population_variation.tsv')\n",
    "\n",
    "pop=pd.read_csv(fileIn,sep='\\t')\n",
    "pop=removeSpecial(pop) # Removes special characters\n",
    "pop.rename(columns = {'snp_rsid':'rsid'}, inplace = True)"
   ]
  },
  {
   "attachments": {},
   "cell_type": "markdown",
   "metadata": {},
   "source": [
    "GWAS:"
   ]
  },
  {
   "cell_type": "code",
   "execution_count": 4,
   "metadata": {},
   "outputs": [],
   "source": [
    "fileIn = getPath(\"T1D_GWAS_add.tsv\")\n",
    "\n",
    "gwas = pd.read_csv(fileIn, sep='\\t') # Reads gwas tsv\n",
    "gwas.rename(columns = {'snps':'rsid','unnamed_0':'i'}, inplace = True)\n",
    "gwas=gwas.astype({'chr_id':'int64'})\n",
    "gwas=removeSpecial(gwas)  # removes special characters in column names\n",
    "gwas = gwas.loc[gwas.rsid.str.contains(r'rs[0-9]+')] # get only snps with rsids\n",
    "gwas=removeDupeSNP(gwas) # Remove duplicates (leaving the entry with largest p value)"
   ]
  },
  {
   "attachments": {},
   "cell_type": "markdown",
   "metadata": {},
   "source": [
    "Ontology:"
   ]
  },
  {
   "cell_type": "code",
   "execution_count": 5,
   "metadata": {},
   "outputs": [],
   "source": [
    "fileIn = getPath(\"GO_trimmed.csv\")\n",
    "\n",
    "ont = pd.read_csv(fileIn)\n",
    "ont=removeSpecial(ont)    # removes special characters in column names\n",
    "ont.rename(columns = {'uploaded_variation':'rsid'}, inplace = True)\n",
    "\n",
    "ont2={'rsid':[],'go':[],'term':[]}\n",
    "for i,row in ont.iterrows():\n",
    "    rs=row['rsid']\n",
    "    go=row['go']\n",
    "    go=go.replace('_',' ')\n",
    "    go=go.split(',')\n",
    "\n",
    "    try:\n",
    "        goCols=[\"GO:\"+str(i.split(':')[1]) for i in go]\n",
    "        termCols=[i.split(':')[2] for i in go]\n",
    "    except:         # If data unavailable,\n",
    "        continue    # skip to next row.\n",
    "\n",
    "    ont2['rsid'].extend([rs for _ in goCols])\n",
    "    ont2['go'].extend(goCols)\n",
    "    ont2['term'].extend(termCols)\n",
    "\n",
    "ont=pd.DataFrame(ont2)"
   ]
  },
  {
   "attachments": {},
   "cell_type": "markdown",
   "metadata": {},
   "source": [
    "Create DB"
   ]
  },
  {
   "cell_type": "code",
   "execution_count": 6,
   "metadata": {},
   "outputs": [
    {
     "name": "stdout",
     "output_type": "stream",
     "text": [
      "\n",
      "done\n",
      "\n"
     ]
    }
   ],
   "source": [
    "DB=DBpath()\n",
    "\n",
    "if os.path.exists(DB):      # If the file exists,\n",
    "    os.remove(DB)           # delete it.\n",
    "\n",
    "pdDB(gwas, \"gwas\",       {\"rsid\":\"TEXT PRIMARY KEY\", \"chr_id\":\"INTEGER\",\"chr_pos\":\"INTEGER\"})\n",
    "pdDB(pop,  \"population\", {\"rsid\":\"TEXT REFERENCES gwas(rsid)\"})\n",
    "pdDB(func, \"functional\", {\"rsid\":\"TEXT REFERENCES gwas(rsid)\"})\n",
    "pdDB(ont,  \"ontology\",   {\"rsid\":\"TEXT\"})\n",
    "\n",
    "print(\"\\ndone\\n\")"
   ]
  }
 ],
 "metadata": {
  "kernelspec": {
   "display_name": "Python 3",
   "language": "python",
   "name": "python3"
  },
  "language_info": {
   "codemirror_mode": {
    "name": "ipython",
    "version": 3
   },
   "file_extension": ".py",
   "mimetype": "text/x-python",
   "name": "python",
   "nbconvert_exporter": "python",
   "pygments_lexer": "ipython3",
   "version": "3.10.10"
  },
  "orig_nbformat": 4,
  "vscode": {
   "interpreter": {
    "hash": "958ecc49f845cae67b922f9a0ace456f2aeb07b09c0ec55961dea76115aaae27"
   }
  }
 },
 "nbformat": 4,
 "nbformat_minor": 2
}
