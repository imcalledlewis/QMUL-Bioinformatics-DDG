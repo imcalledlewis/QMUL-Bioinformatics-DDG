{
 "cells": [
  {
   "attachments": {},
   "cell_type": "markdown",
   "metadata": {},
   "source": [
    "# Data Cleaner\n",
    "\n",
    "Different scripts to clean and trim our data\n",
    "\n",
    "**TODO: make rs values integers by removing \"rs\"**"
   ]
  },
  {
   "cell_type": "code",
   "execution_count": 2,
   "metadata": {},
   "outputs": [],
   "source": [
    "from db_scripts import *"
   ]
  },
  {
   "attachments": {},
   "cell_type": "markdown",
   "metadata": {},
   "source": [
    "GWAS dataset:"
   ]
  },
  {
   "cell_type": "code",
   "execution_count": 2,
   "metadata": {},
   "outputs": [],
   "source": [
    "fileIn = getPath('gwas_catalog_v1.0-associations_e108_r2023-01-14.tsv') # https://www.ebi.ac.uk/gwas/docs/file-downloads\n",
    "# fileOut = getPath('gwas_trimmed_beeg.tsv')\n",
    "fileOut = getPath('gwas_trimmed.tsv')\n",
    "\n",
    "data = pd.read_csv(fileIn, sep='\\t', low_memory=False)    # Reads gwas tsv\n",
    "data=removeSpecial(data)    # removes special characters in column names\n",
    "data=data.query(\"disease_trait=='Type 1 diabetes' or study.str.contains('type 1 diabetes')\")\n",
    "data = data.loc[data.snps.str.contains(r'rs[0-9]+')]        # get only snps with rsids\n",
    "#data = data.loc[data['CHR_ID']=='6']                        # Select only rows for chromosome 6\n",
    "\n",
    "# data = data[[\"SNPS\",\"REGION\",\"CHR_POS\",\"P_VALUE\",\"MAPPED_GENE\"]] # maybe also include STRONGEST SNP-RISK ALLELE and RISK ALLELE FREQUENCY ?\n",
    "data = data[[\"snps\",\"region\",\"chr_pos\",\"chr_id\",\"p_value\",\"mapped_gene\"]] # maybe also include STRONGEST SNP-RISK ALLELE and RISK ALLELE FREQUENCY ?\n",
    "\n",
    "data=removeDupeSNP(data)    # Remove duplicates (leaving the entry with largest p value)\n",
    "\n",
    "newCol=[removeDupeGeneMap(r[\"mapped_gene\"]) for i, r in data.iterrows()]    # Create column with duplicate gene maps removed,\n",
    "data[\"mapped_gene\"]=newCol                                                  # And replace the relevant column with this\n",
    "\n",
    "data.rename(columns = {'snps':'rsid'}, inplace = True)\n",
    "\n",
    "# if os.path.exists(fileOut): # If the file exists,\n",
    "#     os.remove(fileOut)     # delete it.\n",
    "data.to_csv(fileOut, sep='\\t', index=False)"
   ]
  },
  {
   "attachments": {},
   "cell_type": "markdown",
   "metadata": {},
   "source": [
    "Functional data:"
   ]
  },
  {
   "cell_type": "code",
   "execution_count": 3,
   "metadata": {},
   "outputs": [],
   "source": [
    "fileIn=getPath('Functional_and_Ontology_data.tsv')\n",
    "# fileIn=getPath('func_data.tsv')\n",
    "fileOut=getPath('Func_trimmed.tsv')\n",
    "\n",
    "\n",
    "data=pd.read_csv(fileIn,sep='\\t')\n",
    "dupeList = data.duplicated(subset=['#Uploaded_variation','Allele'])   # Get list of duplicate values\n",
    "data=data[~dupeList]\n",
    "data=removeSpecial(data)\n",
    "data.rename(columns = {'uploaded_variation':'rsid'}, inplace = True)\n",
    "data = data[['rsid','allele','cadd_phred', 'cadd_raw']]#, 'PolyPhen', 'SIFT']] # maybe re-add polyphen and sift later\n",
    "\n",
    "# data=castRS(data, \"Uploaded_variation\") # converts rs value column to integer\n",
    "data.to_csv(fileOut, sep='\\t', index=False)"
   ]
  },
  {
   "attachments": {},
   "cell_type": "markdown",
   "metadata": {},
   "source": [
    "Population data:"
   ]
  },
  {
   "cell_type": "code",
   "execution_count": 4,
   "metadata": {},
   "outputs": [],
   "source": [
    "fileIn=getPath('population_variation.tsv')\n",
    "fileOut=getPath('population_variation_noSpecial.tsv')\n",
    "\n",
    "data=pd.read_csv(fileIn,sep='\\t')\n",
    "data=removeSpecial(data)        # Removes special characters\n",
    "data.rename(columns = {'snp_rsid':'rsid'}, inplace = True)\n",
    "\n",
    "# data=castRS(data,\"SNP_rsID\")    # converts rs value column to integer\n",
    "data.to_csv(fileOut, sep='\\t', index=False)"
   ]
  },
  {
   "attachments": {},
   "cell_type": "markdown",
   "metadata": {},
   "source": [
    "Func data 2:"
   ]
  },
  {
   "cell_type": "code",
   "execution_count": 5,
   "metadata": {},
   "outputs": [],
   "source": [
    "if 0:   # disable for the time being\n",
    "    fileIn=getPath('Functional_and_Ontology_data.tsv')\n",
    "    fileOut=getPath('Func_trimmed.tsv')\n",
    "\n",
    "    Association_table_filename = 'Functional_and_Ontology_data.tsv'\n",
    "    df = pd.read_csv(fileIn, sep='\\t')\n",
    "    columns_to_keep = ['#Uploaded_variation','Allele','CADD_PHRED', 'CADD_RAW', 'PolyPhen', 'SIFT']\n",
    "    df = df[columns_to_keep]\n",
    "    # print(df)\n",
    "    df=removeSpecial(df)    # removes special characters in column names\n",
    "    df.to_csv(fileOut,sep='\\t', index=False)"
   ]
  },
  {
   "attachments": {},
   "cell_type": "markdown",
   "metadata": {},
   "source": [
    "GWAS 2:"
   ]
  },
  {
   "cell_type": "code",
   "execution_count": 6,
   "metadata": {},
   "outputs": [],
   "source": [
    "fileIn = getPath(\"SNPS_filled.tsv\")\n",
    "# fileOut = getPath('gwas_trimmed_beeg.tsv')\n",
    "fileOut = getPath(\"SNPS_filled_clean.tsv\")\n",
    "\n",
    "data = pd.read_csv(fileIn, sep='\\t')# low_memory=False)    # Reads gwas tsv\n",
    "data=removeSpecial(data)    # removes special characters in column names\n",
    "# data=data.query(\"DISEASE_TRAIT=='Type 1 diabetes' or STUDY.str.contains('type 1 diabetes')\")\n",
    "data = data.loc[data.snps.str.contains(r'rs[0-9]+')]        # get only snps with rsids\n",
    "#data = data.loc[data['CHR_ID']=='6']                        # Select only rows for chromosome 6\n",
    "data = data[[\"snps\",\"region\",\"chr_pos\",\"chr_id\",\"p_value\",\"mapped_gene\"]] # maybe also include STRONGEST SNP-RISK ALLELE and RISK ALLELE FREQUENCY ?\n",
    "\n",
    "\n",
    "data=removeDupeSNP(data)    # Remove duplicates (leaving the entry with largest p value)\n",
    "data.rename(columns = {'snps':'rsid'}, inplace = True)\n",
    "\n",
    "# if os.path.exists(fileOut): # If the file exists,\n",
    "#     os.remove(fileOut)     # delete it.\n",
    "data.to_csv(fileOut, sep='\\t', index=False)"
   ]
  },
  {
   "attachments": {},
   "cell_type": "markdown",
   "metadata": {},
   "source": [
    "Ontology:"
   ]
  },
  {
   "cell_type": "code",
   "execution_count": 3,
   "metadata": {},
   "outputs": [],
   "source": [
    "fileIn = getPath(\"GO_trimmed.csv\")\n",
    "# fileOut = getPath(\"GO_trimmed_clean.tsv\")\n",
    "fileOut = getPath(\"GO_new.tsv\")\n",
    "\n",
    "data = pd.read_csv(fileIn)\n",
    "data=removeSpecial(data)    # removes special characters in column names\n",
    "data.rename(columns = {'uploaded_variation':'rsid'}, inplace = True)\n",
    "\n",
    "data2={'rsid':[],'go':[],'term':[]}\n",
    "for i,row in data.iterrows():\n",
    "    rs=row['rsid']\n",
    "    go=row['go']\n",
    "    go=go.replace('_',' ')\n",
    "    go=go.split(',')\n",
    "\n",
    "    try:\n",
    "        goCols=[\"GO:\"+str(i.split(':')[1]) for i in go]\n",
    "    except:         # If data unavailable,\n",
    "        continue    # skip to next row.\n",
    "    try:\n",
    "        termCols=[i.split(':')[2] for i in go]\n",
    "    except:         # If data unavailable,\n",
    "        continue    # skip to next row.\n",
    "\n",
    "    data2['rsid'].extend([rs for _ in goCols])\n",
    "    data2['go'].extend(goCols)\n",
    "    data2['term'].extend(termCols)\n",
    "\n",
    "data2=pd.DataFrame(data2)\n",
    "\n",
    "dupeList = data2.duplicated(subset='go')   # Get list of duplicate values\n",
    "data2 = data2[~dupeList]\n",
    "\n",
    "# print(data2.head())\n",
    "\n",
    "data2.to_csv(fileOut, sep='\\t', index=False)"
   ]
  }
 ],
 "metadata": {
  "kernelspec": {
   "display_name": "Python 3",
   "language": "python",
   "name": "python3"
  },
  "language_info": {
   "codemirror_mode": {
    "name": "ipython",
    "version": 3
   },
   "file_extension": ".py",
   "mimetype": "text/x-python",
   "name": "python",
   "nbconvert_exporter": "python",
   "pygments_lexer": "ipython3",
   "version": "3.10.10"
  },
  "orig_nbformat": 4,
  "vscode": {
   "interpreter": {
    "hash": "958ecc49f845cae67b922f9a0ace456f2aeb07b09c0ec55961dea76115aaae27"
   }
  }
 },
 "nbformat": 4,
 "nbformat_minor": 2
}
